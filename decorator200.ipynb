{
 "cells": [
  {
   "cell_type": "code",
   "execution_count": 1,
   "metadata": {},
   "outputs": [
    {
     "name": "stdout",
     "output_type": "stream",
     "text": [
      "Work done? True\n"
     ]
    }
   ],
   "source": [
    "import random\n",
    "# Modifying variables outside local scope -> global\n",
    "def wait_until_done():\n",
    "  def check_is_done():\n",
    "    # Add a keyword so that wait_until_done() \n",
    "    # doesn't run forever\n",
    "    global done\n",
    "    if random.random() < 0.1:\n",
    "      done = True\n",
    "      \n",
    "  while not done:\n",
    "    check_is_done() # check run will continue till random.random() value become less than 0.1\n",
    "\n",
    "done = False\n",
    "wait_until_done()\n",
    "\n",
    "print('Work done? {}'.format(done))"
   ]
  },
  {
   "cell_type": "code",
   "execution_count": 21,
   "metadata": {},
   "outputs": [
    {
     "data": {
      "text/plain": [
       "0.9849588907032744"
      ]
     },
     "execution_count": 21,
     "metadata": {},
     "output_type": "execute_result"
    }
   ],
   "source": [
    "random.random()"
   ]
  },
  {
   "cell_type": "code",
   "execution_count": null,
   "metadata": {},
   "outputs": [],
   "source": [
    "# Concepts required for understanding decorator\n",
    "# > Function as object\n",
    "# > Nested function\n",
    "# > Closures (a closure is Python's way of attaching nonlocal variables \n",
    "# # to a returned function so that the function can operate even when it is called outside \n",
    "# # of its parent's scope.)\n",
    "\n",
    "# > Non local variables\n",
    "def parent(arg_1, arg_2):\n",
    "    # From child()'s  point of view,\n",
    "    # value and my_dict are nonlocal variables\n",
    "    # as are arg1, arg2\n",
    "    value = 22\n",
    "    my_dict = {'chocolate':'yummy'}\n",
    "    def child():\n",
    "        print(2*value)\n",
    "        print(my_dict['chocolate'])\n",
    "        print(arg_1 + arg_2)\n",
    "    return child    \n",
    "\n",
    "new_function = parent(3,5)\n",
    "print([cell.cell_contents for cell in new_function.__closure__])"
   ]
  },
  {
   "cell_type": "markdown",
   "metadata": {},
   "source": [
    "1. **Timing Execution:** \n",
    "@timer: Measures the execution time of a function and prints it.\n",
    "@profile: Analyzes and reports the performance of a function line by line.\n",
    "\n",
    "2. **Error Handling:**\n",
    "@log_entry: Logs the entry and exit of a function with additional information.\n",
    "@log_arguments: Logs the arguments passed to a function before execution.\n",
    "\n",
    "3. **Authentication and Authorization:**\n",
    "@requires_login: Ensures a user is logged in before accessing a function.\n",
    "@has_permission(permission_name): Checks if a user has a specific permission before execution.\n",
    "\n",
    "4. **Caching Results:**\n",
    "@cache_results: Stores the function's output for future calls with the same arguments.\n",
    "@lru_cache(maxsize=10): Caches the output of the last n unique calls made to the function.\n",
    "\n",
    "5. **Data Validation:**\n",
    "@validate_args(schema): Ensures function arguments conform to a defined schema.\n",
    "@type_check(arg_type_dict): Verifies the data type of each function argument.\n",
    "\n",
    "6. **Unit Testing and Mocking:**\n",
    "@mock_import(module_name): Mocks a module during function execution for testing purposes.\n",
    "@patch_object(object, attribute): Patches an object's attribute with a mock object within a function.\n",
    "\n",
    "7. **Context Management:**\n",
    "@resource_cleanup: Automatically closes opened resources after function execution.\n",
    "@transactional: Ensures database changes within a function commit or rollback as a whole.\n",
    "\n",
    "8. **Security and Encryption:**\n",
    "@encrypt(key): Encrypts the function's return value with a specified key.\n",
    "@decrypt(key): Decrypts the function's arguments or return value with a specified key.\n",
    "\n",
    "9. **Performance Optimization:**\n",
    "@jit: Compiles the function for faster execution using Just-In-Time compilation.\n",
    "@vectorize: Optimizes the function for vectorized execution on large datasets.\n",
    "\n",
    "10. **Code Organization and Reuse:**\n",
    "@class_method: Converts a function into a class method without code modification.\n",
    "@staticmethod: Converts a function into a static method without code modification.\n",
    "\n",
    "11. **Debugging and Profiling:**\n",
    "@debug: Prints the function's call stack and variables for debugging purposes.\n",
    "@profile_memory: Tracks the memory usage of a function during execution.\n",
    "\n",
    "12. **Asynchronous Programming:**\n",
    "@async_contextmanager: Provides an asynchronous context manager for resource management.\n",
    "@asyncio.coroutine: Decorates a function to make it an asynchronous coroutine.\n",
    "\n",
    "13. **Functional Programming:**\n",
    "@curry: Converts a function with multiple arguments into a curried function.\n",
    "@memoize: Caches the function's output based on its arguments for enhanced performance.\n",
    "\n",
    "14. **Web Development:**\n",
    "@route('/path'): Decorates a function as a route handler for a specific URL path.\n",
    "@authenticate: Ensures user authentication before processing a web request.\n",
    "\n",
    "15. **Logging Levels:**\n",
    "@log_info: Logs the function's execution with an INFO level.\n",
    "@log_warning: Logs the function's execution with a WARNING level.\n",
    "\n",
    "16. **Data Serialization and Deserialization:**\n",
    "@jsonify: Converts the function's return value to a JSON string.\n",
    "@xml: Converts the function's return value to an XML string.\n",
    "\n",
    "17. **Code Metrics and Coverage:**\n",
    "@profile_lines: Tracks the number of times each line of code is executed.\n",
    "@coverage: Measures the code coverage of a function by testing tools.\n",
    "\n",
    "18. **Internationalization and Localization:**\n",
    "@gettext: Translates the function's messages based on the selected language.\n",
    "@ngettext: Handles pluralization in translated messages.\n",
    "\n",
    "19. **Dependency Injection:**\n",
    "@inject(dependency_name): Injects a dependency into a function automatically.\n",
    "@singleton: Creates a single instance"
   ]
  },
  {
   "cell_type": "code",
   "execution_count": 26,
   "metadata": {},
   "outputs": [
    {
     "name": "stdout",
     "output_type": "stream",
     "text": [
      "1\n",
      "2\n"
     ]
    }
   ],
   "source": [
    "def counter():\n",
    "  count = 0\n",
    "  def inner():\n",
    "    nonlocal count  # Access and modify counter variable\n",
    "    count += 1\n",
    "    return count\n",
    "  return inner\n",
    "\n",
    "c = counter()  # This captures the initial count variable\n",
    "print(c())  # Prints 1\n",
    "print(c())  # Prints 2  "
   ]
  },
  {
   "cell_type": "code",
   "execution_count": 29,
   "metadata": {},
   "outputs": [
    {
     "name": "stdout",
     "output_type": "stream",
     "text": [
      "Good morning, John!\n"
     ]
    }
   ],
   "source": [
    "def say_hello(greeting):\n",
    "  def inner(name):\n",
    "    return f\"{greeting}, {name}!\"\n",
    "  return inner\n",
    "\n",
    "hello = say_hello(\"Good morning\")\n",
    "print(hello(\"John\"))  # Prints \"Good morning, John!\""
   ]
  },
  {
   "cell_type": "code",
   "execution_count": 35,
   "metadata": {},
   "outputs": [
    {
     "name": "stdout",
     "output_type": "stream",
     "text": [
      "10\n",
      "(<cell at 0x0000016DB0799DE0: int object at 0x00007FFCEDA03AD8>,)\n"
     ]
    }
   ],
   "source": [
    "def my_closure():\n",
    "    x = 10\n",
    "\n",
    "    def inner():\n",
    "        return x\n",
    "\n",
    "    return inner\n",
    "\n",
    "closure_func = my_closure()\n",
    "closure_cells = closure_func.__closure__  # Access closure cells\n",
    "print(closure_cells[0].cell_contents)\n",
    "print(closure_cells)"
   ]
  },
  {
   "cell_type": "code",
   "execution_count": 28,
   "metadata": {},
   "outputs": [
    {
     "data": {
      "text/plain": [
       "(<cell at 0x0000016DB079A2C0: int object at 0x00007FFCEDA03998>,)"
      ]
     },
     "execution_count": 28,
     "metadata": {},
     "output_type": "execute_result"
    }
   ],
   "source": [
    "counter().__closure__"
   ]
  },
  {
   "cell_type": "code",
   "execution_count": 37,
   "metadata": {},
   "outputs": [
    {
     "name": "stdout",
     "output_type": "stream",
     "text": [
      "Closure contents: [3, 5, {'chocolate': 'yummy'}, 22]\n"
     ]
    }
   ],
   "source": [
    "# Let's define the parent function again and inspect the closure contents\n",
    "\n",
    "def parent(arg_1, arg_2):\n",
    "    value = 22\n",
    "    my_dict = {'chocolate': 'yummy'}\n",
    "    def child(arg11,arg22):\n",
    "        print(2*value)\n",
    "        print(my_dict['chocolate'])\n",
    "        print(arg_1 + arg_2)\n",
    "        print(arg11+arg22+arg1+arg2)\n",
    "    return child\n",
    "\n",
    "# Create a new function from parent\n",
    "new_function = parent(3, 5)\n",
    "\n",
    "# Access the closure contents\n",
    "closure_contents = [cell.cell_contents for cell in new_function.__closure__]\n",
    "print('Closure contents:', closure_contents)"
   ]
  },
  {
   "cell_type": "code",
   "execution_count": 40,
   "metadata": {},
   "outputs": [
    {
     "data": {
      "text/plain": [
       "5"
      ]
     },
     "execution_count": 40,
     "metadata": {},
     "output_type": "execute_result"
    }
   ],
   "source": [
    "# Decorator\n",
    "def multiply(a,b):\n",
    "    return a*b\n",
    "\n",
    "def double_args(func):\n",
    "    return func\n",
    "\n",
    "new_multiply = double_args(multiply)\n",
    "new_multiply(1,5)"
   ]
  },
  {
   "cell_type": "code",
   "execution_count": 41,
   "metadata": {},
   "outputs": [
    {
     "data": {
      "text/plain": [
       "20"
      ]
     },
     "execution_count": 41,
     "metadata": {},
     "output_type": "execute_result"
    }
   ],
   "source": [
    "def double_args(func):\n",
    "    def wrapper(a,b): \n",
    "        return func(a*2, b*2)\n",
    "    return wrapper\n",
    "\n",
    "def multiply(a,b):\n",
    "    return a*b\n",
    "\n",
    "new_multiply = double_args(multiply) # the wrapper double the argument values\n",
    "new_multiply(1,5)"
   ]
  },
  {
   "cell_type": "code",
   "execution_count": 42,
   "metadata": {},
   "outputs": [
    {
     "data": {
      "text/plain": [
       "20"
      ]
     },
     "execution_count": 42,
     "metadata": {},
     "output_type": "execute_result"
    }
   ],
   "source": [
    "# The other way of writing the same it\n",
    "def double_args(func):\n",
    "    def wrapper(a,b):\n",
    "        return func(a*2, b*2)\n",
    "    return wrapper\n",
    "\n",
    "@double_args\n",
    "def multiply(a,b):   # rather than writing and storing the closure function then running the updated function\n",
    "    return a*b\n",
    "\n",
    "multiply(1,5)        # we can directly run this"
   ]
  },
  {
   "cell_type": "code",
   "execution_count": 43,
   "metadata": {},
   "outputs": [
    {
     "name": "stdout",
     "output_type": "stream",
     "text": [
      "Before multiply\n",
      "50\n",
      "After multiply\n"
     ]
    }
   ],
   "source": [
    "def print_before_and_after(func):\n",
    "  def wrapper(*args):\n",
    "    print('Before {}'.format(func.__name__))\n",
    "    # Call the function being decorated with *args\n",
    "    func(*args)\n",
    "    print('After {}'.format(func.__name__))\n",
    "  # Return the nested function\n",
    "  return wrapper\n",
    "\n",
    "@print_before_and_after\n",
    "def multiply(a, b):\n",
    "  print(a * b)\n",
    "\n",
    "multiply(5, 10)"
   ]
  },
  {
   "cell_type": "code",
   "execution_count": 45,
   "metadata": {},
   "outputs": [
    {
     "name": "stdout",
     "output_type": "stream",
     "text": [
      "wrapper executed this before display\n",
      "display function ran\n"
     ]
    }
   ],
   "source": [
    "def decorator_function(original_function):\n",
    "    def wrapper_function():\n",
    "        print('wrapper executed this before {}'.format(original_function.__name__))\n",
    "        return original_function()\n",
    "    return wrapper_function\n",
    "\n",
    "def display():\n",
    "    print('display function ran')\n",
    "    \n",
    "    \n",
    "disp = decorator_function(display)  \n",
    "disp()  "
   ]
  },
  {
   "cell_type": "code",
   "execution_count": 46,
   "metadata": {},
   "outputs": [
    {
     "name": "stdout",
     "output_type": "stream",
     "text": [
      "wrapper executed this before display\n",
      "display function ran\n"
     ]
    }
   ],
   "source": [
    "@ decorator_function\n",
    "def display():\n",
    "    print('display function ran')\n",
    "    \n",
    "display()    "
   ]
  },
  {
   "cell_type": "code",
   "execution_count": 47,
   "metadata": {},
   "outputs": [
    {
     "name": "stdout",
     "output_type": "stream",
     "text": [
      "wrapper executed this before display_info\n",
      "display_info ran with arguments (Ransingh,24)\n"
     ]
    }
   ],
   "source": [
    "# to take care of the arguments within the the wrapper function *args and **kwargs are used\n",
    "# one decorator taking care of multiple function\n",
    "def decorator_function(original_function):\n",
    "    def wrapper_function(*args, **kwargs):\n",
    "        print('wrapper executed this before {}'.format(original_function.__name__))\n",
    "        return original_function(*args,**kwargs)\n",
    "    return wrapper_function\n",
    "\n",
    "@decorator_function\n",
    "def display():\n",
    "    print('display function ran')\n",
    "    \n",
    "@decorator_function\n",
    "def display_info(name, age):\n",
    "    print('display_info ran with arguments ({},{})'.format(name, age))\n",
    "    \n",
    "display_info(\"Ransingh\", 24)  "
   ]
  },
  {
   "cell_type": "code",
   "execution_count": 49,
   "metadata": {},
   "outputs": [
    {
     "name": "stdout",
     "output_type": "stream",
     "text": [
      "call method executed this before display_info\n",
      "display_info ran with arguments (Ransingh,24)\n",
      "call method executed this before display\n",
      "display function ran\n"
     ]
    }
   ],
   "source": [
    "# Some programmers use classes as decorator rather than function as decorator\n",
    "\"\"\"\n",
    "def decorator_function(original_function):\n",
    "    def wrapper_function(*args, **kwargs):\n",
    "        print('wrapper executed this before {}'.format(original_function.__name__))\n",
    "        return original_function(*args,**kwargs)\n",
    "    return wrapper_function\n",
    "\"\"\"\n",
    "\n",
    "class decorator_class(object):\n",
    "    def __init__(self, original_function):\n",
    "        self.original_function = original_function\n",
    "        \n",
    "    def __call__(self, *args, **kwargs):\n",
    "        print(\"call method executed this before {}\".format(self.original_function.__name__))\n",
    "        return self.original_function(*args, **kwargs)\n",
    "\n",
    "\n",
    "@decorator_class\n",
    "def display():\n",
    "    print('display function ran')\n",
    "    \n",
    "@decorator_class\n",
    "def display_info(name, age):\n",
    "    print('display_info ran with arguments ({},{})'.format(name, age))\n",
    "    \n",
    "display_info(\"Ransingh\", 24)\n",
    "display()"
   ]
  },
  {
   "cell_type": "code",
   "execution_count": 51,
   "metadata": {},
   "outputs": [
    {
     "name": "stdout",
     "output_type": "stream",
     "text": [
      "call method executed this before display\n",
      "display function ran\n"
     ]
    }
   ],
   "source": [
    "import numpy as np\n",
    "# if we would have done this without decorator then \n",
    "class decorator_class(object):\n",
    "    def __init__(self, original_function): # just like decorator(original_function)\n",
    "        self.original_function = original_function\n",
    "        \n",
    "    def __call__(self, *args, **kwargs): # for just like x() in decorator(original_function), x= decorator(original_function), x()\n",
    "        print(\"call method executed this before {}\".format(self.original_function.__name__))\n",
    "        return self.original_function(*args, **kwargs)\n",
    "    \n",
    "def display():\n",
    "    print('display function ran')\n",
    "    \n",
    "x = decorator_class(display)\n",
    "x()        \n",
    "    "
   ]
  },
  {
   "cell_type": "code",
   "execution_count": 54,
   "metadata": {},
   "outputs": [
    {
     "name": "stdout",
     "output_type": "stream",
     "text": [
      "call method executed this before sum_div_std\n",
      "The result is\n"
     ]
    },
    {
     "data": {
      "text/plain": [
       "7.348469228349534"
      ]
     },
     "execution_count": 54,
     "metadata": {},
     "output_type": "execute_result"
    }
   ],
   "source": [
    "def decorator_fn(original_function):\n",
    "    y=1\n",
    "    def wrapper_fn(*args,**kwargs):\n",
    "        print(\"wrapper function\")\n",
    "        return((original_function(*args,**kwargs))^2 + y) \n",
    "    return wrapper_fn   \n",
    "       \n",
    "    \n",
    "def sum_div_std(x:list):\n",
    "    x = sum(x)/np.std(x)\n",
    "    print(\"The result is\")\n",
    "    return x\n",
    "\n",
    "x = decorator_class(sum_div_std) # we are not getting the update we expected\n"
   ]
  },
  {
   "cell_type": "code",
   "execution_count": 55,
   "metadata": {},
   "outputs": [
    {
     "data": {
      "text/plain": [
       "7.348469228349534"
      ]
     },
     "execution_count": 55,
     "metadata": {},
     "output_type": "execute_result"
    }
   ],
   "source": [
    "sum([10,20,30])/np.std([10,20,30])\n"
   ]
  },
  {
   "cell_type": "code",
   "execution_count": null,
   "metadata": {},
   "outputs": [],
   "source": [
    "def square_and_add_one(original_function):\n",
    "    \"\"\"\n",
    "    Decorator that squares each element in a list and adds 1 inside the wrapper function.\n",
    "\n",
    "    Args:\n",
    "        original_function: The function to be decorated.\n",
    "\n",
    "    Returns:\n",
    "        The decorated function.\n",
    "    \"\"\"\n",
    "    def wrapper_fn(*args, **kwargs):\n",
    "        \"\"\"\n",
    "        Wrapper function that squares each element in the list and adds 1.\n",
    "\n",
    "        Args:\n",
    "            *args: Arguments passed to the original function.\n",
    "            **kwargs: Keyword arguments passed to the original function.\n",
    "\n",
    "        Returns:\n",
    "            The result of the original function with each element squared and 1 added.\n",
    "        \"\"\"\n",
    "        # Get the list argument from the original function\n",
    "        list_arg = args[0] if len(args) > 0 else kwargs.get(\"list\", None)\n",
    "        if list_arg is None:\n",
    "            raise TypeError(\"Decorator expects a list argument\")\n",
    "\n",
    "        # Square each element and add 1\n",
    "        squared_list = np.square(list_arg) + 1\n",
    "\n",
    "        # Pass the modified list to the original function\n",
    "        return original_function(squared_list, *args[1:], **kwargs)\n",
    "\n",
    "    return wrapper_fn\n",
    "\n",
    "@square_and_add_one  # Apply the decorator to the sum_div_std function\n",
    "def sum_div_std(list_arg):\n",
    "    \"\"\"\n",
    "    Function that calculates the sum divided by the standard deviation of a list.\n",
    "\n",
    "    Args:\n",
    "        list_arg: The list of numbers.\n",
    "\n",
    "    Returns:\n",
    "        The sum of the list divided by the standard deviation.\n",
    "    \"\"\"\n",
    "    return sum(list_arg) / np.std(list_arg)\n",
    "\n",
    "# Example usage\n",
    "result = sum_div_std([10, 20, 30])\n",
    "print(f\"The result after squaring and adding 1 to each element: {result}\")"
   ]
  },
  {
   "cell_type": "code",
   "execution_count": 56,
   "metadata": {},
   "outputs": [
    {
     "data": {
      "text/plain": [
       "array([100, 400, 900])"
      ]
     },
     "execution_count": 56,
     "metadata": {},
     "output_type": "execute_result"
    }
   ],
   "source": [
    "np.square([10,20,30])"
   ]
  },
  {
   "cell_type": "code",
   "execution_count": null,
   "metadata": {},
   "outputs": [],
   "source": [
    "# Summing up the above code it shows how the arguments are accesses with in the wrapper function\n",
    "\n",
    "def square_and_add_one(original_function):\n",
    "\n",
    "    def wrapper_fn(*args, **kwargs):\n",
    "        # Get the list argument from the original function\n",
    "        list_arg = args[0] if len(args) > 0 else kwargs.get(\"list\", None)\n",
    "            # It uses kwargs.get(\"list\", None) to retrieve the value associated with the \n",
    "            # keyword \"list\" from the kwargs dictionary.\n",
    "            # If the \"list\" keyword argument isn't present, it returns None.\n",
    "        if list_arg is None:\n",
    "            raise TypeError(\"Decorator expects a list argument\")\n",
    "        # Square each element and add 1\n",
    "        squared_list = np.square(list_arg) + 1\n",
    "\n",
    "        # Pass the modified list to the original function\n",
    "        return original_function(squared_list, *args[1:], **kwargs)\n",
    "\n",
    "    return wrapper_fn\n",
    "\n",
    "@square_and_add_one  # Apply the decorator to the sum_div_std function\n",
    "def sum_div_std(list_arg):\n",
    "    return sum(list_arg) / np.std(list_arg)\n",
    "\n",
    "# Example usage\n",
    "result = sum_div_std([10, 20, 30])\n",
    "print(f\"The result after squaring and adding 1 to each element: {result}\")"
   ]
  },
  {
   "cell_type": "code",
   "execution_count": 57,
   "metadata": {},
   "outputs": [
    {
     "ename": "TypeError",
     "evalue": "unsupported operand type(s) for +: 'int' and 'list'",
     "output_type": "error",
     "traceback": [
      "\u001b[1;31m---------------------------------------------------------------------------\u001b[0m",
      "\u001b[1;31mTypeError\u001b[0m                                 Traceback (most recent call last)",
      "Cell \u001b[1;32mIn[57], line 1\u001b[0m\n\u001b[1;32m----> 1\u001b[0m \u001b[43msum_div_std\u001b[49m\u001b[43m(\u001b[49m\u001b[43m[\u001b[49m\u001b[43m[\u001b[49m\u001b[38;5;241;43m10\u001b[39;49m\u001b[43m,\u001b[49m\u001b[38;5;241;43m20\u001b[39;49m\u001b[43m,\u001b[49m\u001b[38;5;241;43m30\u001b[39;49m\u001b[43m]\u001b[49m\u001b[43m,\u001b[49m\u001b[43m[\u001b[49m\u001b[38;5;241;43m40\u001b[39;49m\u001b[43m,\u001b[49m\u001b[38;5;241;43m50\u001b[39;49m\u001b[43m,\u001b[49m\u001b[38;5;241;43m60\u001b[39;49m\u001b[43m]\u001b[49m\u001b[43m]\u001b[49m\u001b[43m)\u001b[49m\n",
      "Cell \u001b[1;32mIn[54], line 10\u001b[0m, in \u001b[0;36msum_div_std\u001b[1;34m(x)\u001b[0m\n\u001b[0;32m      9\u001b[0m \u001b[38;5;28;01mdef\u001b[39;00m \u001b[38;5;21msum_div_std\u001b[39m(x:\u001b[38;5;28mlist\u001b[39m):\n\u001b[1;32m---> 10\u001b[0m     x \u001b[38;5;241m=\u001b[39m \u001b[38;5;28;43msum\u001b[39;49m\u001b[43m(\u001b[49m\u001b[43mx\u001b[49m\u001b[43m)\u001b[49m\u001b[38;5;241m/\u001b[39mnp\u001b[38;5;241m.\u001b[39mstd(x)\n\u001b[0;32m     11\u001b[0m     \u001b[38;5;28mprint\u001b[39m(\u001b[38;5;124m\"\u001b[39m\u001b[38;5;124mThe result is\u001b[39m\u001b[38;5;124m\"\u001b[39m)\n\u001b[0;32m     12\u001b[0m     \u001b[38;5;28;01mreturn\u001b[39;00m x\n",
      "\u001b[1;31mTypeError\u001b[0m: unsupported operand type(s) for +: 'int' and 'list'"
     ]
    }
   ],
   "source": [
    "# The decorator square_and_add_one expects a single list of numbers as its \n",
    "# argument, but you're passing a list of lists (a nested list).\n",
    "sum_div_std([[10,20,30],[40,50,60]])"
   ]
  },
  {
   "cell_type": "code",
   "execution_count": 59,
   "metadata": {},
   "outputs": [
    {
     "data": {
      "text/plain": [
       "[10, 20, 30, 40, 50, 60]"
      ]
     },
     "execution_count": 59,
     "metadata": {},
     "output_type": "execute_result"
    }
   ],
   "source": [
    "# to combine [[10,20,30],[40,50,60]] nested list to 1 list, we use list comprehension\n",
    "[items for sublist in [[10,20,30],[40,50,60]] for items in sublist]"
   ]
  },
  {
   "cell_type": "code",
   "execution_count": 64,
   "metadata": {},
   "outputs": [
    {
     "name": "stdout",
     "output_type": "stream",
     "text": [
      "The wrapper function runs\n",
      "The function func_a runs\n",
      "Still in wrapper function\n",
      "Function func_a took 2.00 seconds to run.\n"
     ]
    }
   ],
   "source": [
    "import random\n",
    "import time\n",
    "\n",
    "# Creating a decorator to measure the execution time of functions\n",
    "def time_it(func):\n",
    "    def wrapper(*args, **kwargs):\n",
    "        print(\"The wrapper function runs\")\n",
    "        start_time = time.time()\n",
    "        result = func(*args, **kwargs)  # this takes 3 sec to run\n",
    "        print(\"Still in wrapper function\")\n",
    "        end_time = time.time()\n",
    "        print(f'Function {func.__name__} took {end_time-start_time:.2f} seconds to run.')\n",
    "        return result\n",
    "    return wrapper\n",
    "\n",
    "@time_it\n",
    "def func_a():\n",
    "    print(\"The function func_a runs\")\n",
    "    time.sleep(random.randint(1, 3))\n",
    "\n",
    "\n",
    "if __name__ == '__main__':\n",
    "    func_a()\n",
    "# The if __name__ == '__main__': block checks if the script is being run as the main program.\n"
   ]
  },
  {
   "cell_type": "code",
   "execution_count": 66,
   "metadata": {},
   "outputs": [
    {
     "name": "stdout",
     "output_type": "stream",
     "text": [
      "display_info ran with arguments (John,25)\n"
     ]
    }
   ],
   "source": [
    "# Practical examples of decorator (VERY IMPORTANT)\n",
    "# Use cases - logging : how many times a specific function is run and what arguments are passed to that function\n",
    "\n",
    "# Walk through\n",
    "def my_logger(orig_func): # passing the original function\n",
    "    import logging\n",
    "    logging.basicConfig(filename='{}.log'.format(orig_func.__name__),level=logging.INFO) # setting a log file that matches the name of our original function\n",
    "    \n",
    "    def wrapper(*args, **kwargs):\n",
    "        logging.info(\n",
    "        'Ran with args:{}, and kwargs:{}'.format(args, kwargs))\n",
    "        return orig_func(*args, **kwargs)\n",
    "    return wrapper\n",
    "        \n",
    "@my_logger\n",
    "def display_info(name, age):\n",
    "    print('display_info ran with arguments ({},{})'.format(name, age))\n",
    "    \n",
    "display_info('John',25)    \n",
    "\n",
    "# when done on system we can see a display_info.log file created\n",
    "# there the msg is, INFO:root:Ran with args: ('John', 25), and kwargs:{}"
   ]
  },
  {
   "cell_type": "code",
   "execution_count": 67,
   "metadata": {},
   "outputs": [
    {
     "name": "stdout",
     "output_type": "stream",
     "text": [
      "display_info ran with arguments (Ransingh,34)\n",
      "display_info ran in: 1.0012025833129883 sec\n"
     ]
    }
   ],
   "source": [
    "# Timing how long a function run\n",
    "\n",
    "def my_timer(orig_func):\n",
    "    import time\n",
    "    \n",
    "    def wrapper(*args, **kwargs):\n",
    "        t1=time.time()\n",
    "        result = orig_func(*args,**kwargs)\n",
    "        t2=time.time()-t1\n",
    "        print('{} ran in: {} sec'.format(orig_func.__name__,t2))\n",
    "        return result\n",
    "    return wrapper\n",
    "\n",
    "import time\n",
    "@my_timer\n",
    "def display_info(name, age):\n",
    "    time.sleep(1)\n",
    "    print('display_info ran with arguments ({},{})'.format(name, age))\n",
    "    \n",
    "display_info('Ransingh', 34)    "
   ]
  },
  {
   "cell_type": "code",
   "execution_count": 71,
   "metadata": {},
   "outputs": [
    {
     "name": "stdout",
     "output_type": "stream",
     "text": [
      "display_info ran with arguments (Hank,30)\n",
      "display_info ran in: 1.000492811203003 sec\n"
     ]
    }
   ],
   "source": [
    "# # When we run the program without using the functools, we would get unexpected result\n",
    "def my_logger1(orig_func): # passing the original function\n",
    "    import logging\n",
    "    logging.basicConfig(filename='{}.log'.format(orig_func.__name__),level=logging.INFO) # setting a log file that matches the name of ourt original function\n",
    "    # print(\"my_logger1 it is\")\n",
    "    def wrapper(*args, **kwargs):\n",
    "        #print(\"wrapper inside my_logger1\")\n",
    "        logging.info(\n",
    "        'Ran with args:{}, and kwargs:{}'.format(args, kwargs))\n",
    "        return orig_func(*args, **kwargs)\n",
    "    return wrapper\n",
    "\n",
    "def my_timer1(orig_func):\n",
    "    import time\n",
    "    # print(\"my_timer1 it is\")\n",
    "    def wrapper(*args, **kwargs):\n",
    "        #print(\"wrapper inside my_timer1\")\n",
    "        t1=time.time()\n",
    "        result = orig_func(*args,**kwargs)\n",
    "        t2=time.time()-t1\n",
    "        print('{} ran in: {} sec'.format(orig_func.__name__,t2))\n",
    "        return result\n",
    "    return wrapper\n",
    "\n",
    "\n",
    "@my_logger1\n",
    "@my_timer1\n",
    "def display_info(name, age):\n",
    "    time.sleep(1)\n",
    "    print('display_info ran with arguments ({},{})'.format(name, age))\n",
    "    \n",
    "\n",
    "display_info('Hank',30)\n",
    "\n",
    "\n",
    "# the order of the execution is very important"
   ]
  },
  {
   "cell_type": "code",
   "execution_count": 70,
   "metadata": {},
   "outputs": [
    {
     "name": "stdout",
     "output_type": "stream",
     "text": [
      "display_info ran with arguments (Hank,30)\n",
      "wrapper ran in: 1.0014111995697021 sec\n"
     ]
    }
   ],
   "source": [
    "def my_logger1(orig_func): # passing the original function\n",
    "    import logging\n",
    "    logging.basicConfig(filename='{}.log'.format(orig_func.__name__),level=logging.INFO) # setting a log file that matches the name of ourt original function\n",
    "    \n",
    "    def wrapper(*args, **kwargs):\n",
    "        logging.info(\n",
    "        'Ran with args:{}, and kwargs:{}'.format(args, kwargs))\n",
    "        return orig_func(*args, **kwargs)\n",
    "    return wrapper\n",
    "\n",
    "def my_timer1(orig_func):\n",
    "    import time\n",
    "    \n",
    "    def wrapper(*args, **kwargs):\n",
    "        t1=time.time()\n",
    "        result = orig_func(*args,**kwargs)\n",
    "        t2=time.time()-t1\n",
    "        print('{} ran in: {} sec'.format(orig_func.__name__,t2))\n",
    "        return result\n",
    "    return wrapper\n",
    "\n",
    "\n",
    "\n",
    "@my_timer1\n",
    "@my_logger1\n",
    "def display_info(name, age):\n",
    "    time.sleep(1)\n",
    "    print('display_info ran with arguments ({},{})'.format(name, age))\n",
    "    \n",
    "\n",
    "display_info('Hank',30)"
   ]
  },
  {
   "cell_type": "markdown",
   "metadata": {},
   "source": [
    "Why did we get the output like the above wny was display_info not represented in the second output?\n",
    "\n",
    "Execution Flow:\n",
    "\n",
    "1. Call display_info('Hank', 30):\n",
    "2. my_timer1 Decorator's Wrapper:\n",
    "Records start time (t1).\n",
    "Calls the inner function (which is now my_logger1's wrapper due to decoration order).\n",
    "3. my_logger1 Decorator's Wrapper:\n",
    "Logs arguments.\n",
    "Calls the original display_info function.\n",
    "4. display_info Function:\n",
    "Sleeps for 1 second.\n",
    "Prints its message.\n",
    "5. my_logger1 Wrapper Returns:\n",
    "Control returns back to my_timer1's wrapper.\n",
    "6. my_timer1 Wrapper Continues:\n",
    "Records end time (t2).\n",
    "Prints the timing message using orig_func.__name__, which now refers to wrapper (the inner function from my_logger1).\n",
    "This is why you see \"wrapper ran in...\" instead of \"display_info ran in...\"."
   ]
  },
  {
   "cell_type": "code",
   "execution_count": null,
   "metadata": {},
   "outputs": [],
   "source": [
    "# what if I want to add both the my_logger and my_timer to one function(stacking)\n",
    "\"\"\"\n",
    "@my_logger\n",
    "@my_timer\n",
    "def display_info(name, age):\n",
    "    time.sleep(1)\n",
    "    print('display_info ran with arguments ({},{})'.format(name, age))\n",
    "    \n",
    "should be same as\n",
    "display_info = my_logger(my_timer(display_info))\n",
    "\"\"\"\n",
    "\n",
    "from functools import wraps\n",
    "\n",
    "def my_logger2(orig_func): # passing the original function\n",
    "    import logging\n",
    "    logging.basicConfig(filename='{}.log'.format(orig_func.__name__),level=logging.INFO) # setting a log file that matches the name of ourt original function\n",
    "    @wraps(orig_func)\n",
    "    def wrapper(*args, **kwargs):\n",
    "        logging.info(\n",
    "        'Ran with args:{}, and kwargs:{}'.format(args, kwargs))\n",
    "        return orig_func(*args, **kwargs)\n",
    "    return wrapper\n",
    "\n",
    "def my_timer2(orig_func):\n",
    "    import time\n",
    "    @wraps(orig_func)\n",
    "    def wrapper(*args, **kwargs):\n",
    "        t1=time.time()\n",
    "        result = orig_func(*args,**kwargs)\n",
    "        t2=time.time()-t1\n",
    "        print('{} ran in: {} sec'.format(orig_func.__name__,t2))\n",
    "        return result\n",
    "    return wrapper\n",
    "\n",
    "@my_timer2\n",
    "@my_logger2\n",
    "def display_info(name, age):\n",
    "    time.sleep(1)\n",
    "    print('display_info ran with arguments ({},{})'.format(name, age))\n",
    "    \n",
    "\n",
    "display_info('Hank',30)\n",
    "\n"
   ]
  },
  {
   "cell_type": "code",
   "execution_count": 72,
   "metadata": {},
   "outputs": [
    {
     "name": "stdout",
     "output_type": "stream",
     "text": [
      "display_info ran with arguments (Hank,30)\n",
      "display_info ran in: 1.0030319690704346 sec\n"
     ]
    }
   ],
   "source": [
    "# what if I want to add both the my_logger and my_timer to one function(stacking)\n",
    "\"\"\"\n",
    "@my_logger\n",
    "@my_timer\n",
    "def display_info(name, age):\n",
    "    time.sleep(1)\n",
    "    print('display_info ran with arguments ({},{})'.format(name, age))\n",
    "    \n",
    "should be same as\n",
    "display_info = my_logger(my_timer(display_info))\n",
    "\"\"\"\n",
    "\n",
    "from functools import wraps\n",
    "\n",
    "def my_logger2(orig_func): # passing the original function\n",
    "    import logging\n",
    "    logging.basicConfig(filename='{}.log'.format(orig_func.__name__),level=logging.INFO) # setting a log file that matches the name of ourt original function\n",
    "    @wraps(orig_func)\n",
    "    def wrapper(*args, **kwargs):\n",
    "        logging.info(\n",
    "        'Ran with args:{}, and kwargs:{}'.format(args, kwargs))\n",
    "        return orig_func(*args, **kwargs)\n",
    "    return wrapper\n",
    "\n",
    "def my_timer2(orig_func):\n",
    "    import time\n",
    "    @wraps(orig_func)\n",
    "    def wrapper(*args, **kwargs):\n",
    "        t1=time.time()\n",
    "        result = orig_func(*args,**kwargs)\n",
    "        t2=time.time()-t1\n",
    "        print('{} ran in: {} sec'.format(orig_func.__name__,t2))\n",
    "        return result\n",
    "    return wrapper\n",
    "\n",
    "@my_timer2\n",
    "@my_logger2\n",
    "def display_info(name, age):\n",
    "    time.sleep(1)\n",
    "    print('display_info ran with arguments ({},{})'.format(name, age))\n",
    "    \n",
    "\n",
    "display_info('Hank',30)\n",
    "\n"
   ]
  },
  {
   "cell_type": "code",
   "execution_count": 73,
   "metadata": {},
   "outputs": [
    {
     "name": "stdout",
     "output_type": "stream",
     "text": [
      "display_info ran with arguments (Hank,30)\n",
      "display_info ran in: 1.000561237335205 sec\n"
     ]
    }
   ],
   "source": [
    "# what if I want to add both the my_logger and my_timer to one function(stacking)\n",
    "\"\"\"\n",
    "@my_logger\n",
    "@my_timer\n",
    "def display_info(name, age):\n",
    "    time.sleep(1)\n",
    "    print('display_info ran with arguments ({},{})'.format(name, age))\n",
    "    \n",
    "should be same as\n",
    "display_info = my_logger(my_timer(display_info))\n",
    "\"\"\"\n",
    "\n",
    "from functools import wraps\n",
    "\n",
    "def my_logger2(orig_func): # passing the original function\n",
    "    import logging\n",
    "    logging.basicConfig(filename='{}.log'.format(orig_func.__name__),level=logging.INFO) # setting a log file that matches the name of ourt original function\n",
    "    @wraps(orig_func)\n",
    "    def wrapper(*args, **kwargs):\n",
    "        logging.info(\n",
    "        'Ran with args:{}, and kwargs:{}'.format(args, kwargs))\n",
    "        return orig_func(*args, **kwargs)\n",
    "    return wrapper\n",
    "\n",
    "def my_timer2(orig_func):\n",
    "    import time\n",
    "    @wraps(orig_func)\n",
    "    def wrapper(*args, **kwargs):\n",
    "        t1=time.time()\n",
    "        result = orig_func(*args,**kwargs)\n",
    "        t2=time.time()-t1\n",
    "        print('{} ran in: {} sec'.format(orig_func.__name__,t2))\n",
    "        return result\n",
    "    return wrapper\n",
    "\n",
    "@my_logger2\n",
    "@my_timer2\n",
    "def display_info(name, age):\n",
    "    time.sleep(1)\n",
    "    print('display_info ran with arguments ({},{})'.format(name, age))\n",
    "    \n",
    "\n",
    "display_info('Hank',30)\n",
    "\n"
   ]
  },
  {
   "cell_type": "code",
   "execution_count": null,
   "metadata": {},
   "outputs": [],
   "source": [
    "# Decorator with argument\n",
    "# We want customised prefix statement to print statement in the wrapper \n",
    "def prefix_decorator(prefix):\n",
    "    def decorator_function(original_function):\n",
    "        def wrapper_function(*args, **kwargs):\n",
    "            print(prefix, 'Executed before {}'.format(original_function.__name__))\n",
    "            return original_function(*args,**kwargs)\n",
    "        return wrapper_function\n",
    "    return decorator_function\n",
    "\n",
    "    \n",
    "@prefix_decorator('LOG:')\n",
    "def display_info(name, age):\n",
    "    print('display_info ran with arguments ({},{})'.format(name, age))\n",
    "    \n",
    "display_info(\"Ransingh\", 24)    \n"
   ]
  },
  {
   "cell_type": "code",
   "execution_count": 76,
   "metadata": {},
   "outputs": [
    {
     "name": "stderr",
     "output_type": "stream",
     "text": [
      "--- Logging error ---\n",
      "Traceback (most recent call last):\n",
      "  File \"C:\\Users\\Ransingh\\AppData\\Local\\Programs\\Python\\Python312\\Lib\\logging\\__init__.py\", line 1160, in emit\n",
      "    msg = self.format(record)\n",
      "          ^^^^^^^^^^^^^^^^^^^\n",
      "  File \"C:\\Users\\Ransingh\\AppData\\Local\\Programs\\Python\\Python312\\Lib\\logging\\__init__.py\", line 999, in format\n",
      "    return fmt.format(record)\n",
      "           ^^^^^^^^^^^^^^^^^^\n",
      "  File \"C:\\Users\\Ransingh\\AppData\\Local\\Programs\\Python\\Python312\\Lib\\logging\\__init__.py\", line 703, in format\n",
      "    record.message = record.getMessage()\n",
      "                     ^^^^^^^^^^^^^^^^^^^\n",
      "  File \"C:\\Users\\Ransingh\\AppData\\Local\\Programs\\Python\\Python312\\Lib\\logging\\__init__.py\", line 392, in getMessage\n",
      "    msg = msg % self.args\n",
      "          ~~~~^~~~~~~~~~~\n",
      "TypeError: not all arguments converted during string formatting\n",
      "Call stack:\n",
      "  File \"<frozen runpy>\", line 198, in _run_module_as_main\n",
      "  File \"<frozen runpy>\", line 88, in _run_code\n",
      "  File \"d:\\Virtual_Environments_Folder\\venv\\Lib\\site-packages\\ipykernel_launcher.py\", line 17, in <module>\n",
      "    app.launch_new_instance()\n",
      "  File \"d:\\Virtual_Environments_Folder\\venv\\Lib\\site-packages\\traitlets\\config\\application.py\", line 1075, in launch_instance\n",
      "    app.start()\n",
      "  File \"d:\\Virtual_Environments_Folder\\venv\\Lib\\site-packages\\ipykernel\\kernelapp.py\", line 701, in start\n",
      "    self.io_loop.start()\n",
      "  File \"d:\\Virtual_Environments_Folder\\venv\\Lib\\site-packages\\tornado\\platform\\asyncio.py\", line 205, in start\n",
      "    self.asyncio_loop.run_forever()\n",
      "  File \"C:\\Users\\Ransingh\\AppData\\Local\\Programs\\Python\\Python312\\Lib\\asyncio\\windows_events.py\", line 321, in run_forever\n",
      "    super().run_forever()\n",
      "  File \"C:\\Users\\Ransingh\\AppData\\Local\\Programs\\Python\\Python312\\Lib\\asyncio\\base_events.py\", line 638, in run_forever\n",
      "    self._run_once()\n",
      "  File \"C:\\Users\\Ransingh\\AppData\\Local\\Programs\\Python\\Python312\\Lib\\asyncio\\base_events.py\", line 1971, in _run_once\n",
      "    handle._run()\n",
      "  File \"C:\\Users\\Ransingh\\AppData\\Local\\Programs\\Python\\Python312\\Lib\\asyncio\\events.py\", line 84, in _run\n",
      "    self._context.run(self._callback, *self._args)\n",
      "  File \"d:\\Virtual_Environments_Folder\\venv\\Lib\\site-packages\\ipykernel\\kernelbase.py\", line 534, in dispatch_queue\n",
      "    await self.process_one()\n",
      "  File \"d:\\Virtual_Environments_Folder\\venv\\Lib\\site-packages\\ipykernel\\kernelbase.py\", line 523, in process_one\n",
      "    await dispatch(*args)\n",
      "  File \"d:\\Virtual_Environments_Folder\\venv\\Lib\\site-packages\\ipykernel\\kernelbase.py\", line 429, in dispatch_shell\n",
      "    await result\n",
      "  File \"d:\\Virtual_Environments_Folder\\venv\\Lib\\site-packages\\ipykernel\\kernelbase.py\", line 767, in execute_request\n",
      "    reply_content = await reply_content\n",
      "  File \"d:\\Virtual_Environments_Folder\\venv\\Lib\\site-packages\\ipykernel\\ipkernel.py\", line 429, in do_execute\n",
      "    res = shell.run_cell(\n",
      "  File \"d:\\Virtual_Environments_Folder\\venv\\Lib\\site-packages\\ipykernel\\zmqshell.py\", line 549, in run_cell\n",
      "    return super().run_cell(*args, **kwargs)\n",
      "  File \"d:\\Virtual_Environments_Folder\\venv\\Lib\\site-packages\\IPython\\core\\interactiveshell.py\", line 3051, in run_cell\n",
      "    result = self._run_cell(\n",
      "  File \"d:\\Virtual_Environments_Folder\\venv\\Lib\\site-packages\\IPython\\core\\interactiveshell.py\", line 3106, in _run_cell\n",
      "    result = runner(coro)\n",
      "  File \"d:\\Virtual_Environments_Folder\\venv\\Lib\\site-packages\\IPython\\core\\async_helpers.py\", line 129, in _pseudo_sync_runner\n",
      "    coro.send(None)\n",
      "  File \"d:\\Virtual_Environments_Folder\\venv\\Lib\\site-packages\\IPython\\core\\interactiveshell.py\", line 3311, in run_cell_async\n",
      "    has_raised = await self.run_ast_nodes(code_ast.body, cell_name,\n",
      "  File \"d:\\Virtual_Environments_Folder\\venv\\Lib\\site-packages\\IPython\\core\\interactiveshell.py\", line 3493, in run_ast_nodes\n",
      "    if await self.run_code(code, result, async_=asy):\n",
      "  File \"d:\\Virtual_Environments_Folder\\venv\\Lib\\site-packages\\IPython\\core\\interactiveshell.py\", line 3553, in run_code\n",
      "    exec(code_obj, self.user_global_ns, self.user_ns)\n",
      "  File \"C:\\Users\\Ransingh\\AppData\\Local\\Temp\\ipykernel_19568\\1668694929.py\", line 15, in <module>\n",
      "    my_function(10, 20) # Logs with INFO level\n",
      "  File \"C:\\Users\\Ransingh\\AppData\\Local\\Temp\\ipykernel_19568\\1668694929.py\", line 5, in wrapper\n",
      "    logging.log(level, \"Running '{}' with args: {}, kwargs: {}\",\n",
      "Message: \"Running '{}' with args: {}, kwargs: {}\"\n",
      "Arguments: ('my_function', (10, 20), {})\n"
     ]
    }
   ],
   "source": [
    "import logging\n",
    "def log_with_level(level):\n",
    "    def decorator(original_function):\n",
    "        def wrapper(*args, **kwargs):\n",
    "            logging.log(level, \"Running '{}' with args: {}, kwargs: {}\",\n",
    "                        original_function.__name__, args, kwargs)\n",
    "            return original_function(*args, **kwargs)\n",
    "        return wrapper\n",
    "    return decorator\n",
    "\n",
    "@log_with_level(logging.INFO)\n",
    "def my_function(x, y):\n",
    "    pass\n",
    "\n",
    "my_function(10, 20) # Logs with INFO level"
   ]
  },
  {
   "cell_type": "code",
   "execution_count": 79,
   "metadata": {},
   "outputs": [
    {
     "name": "stdout",
     "output_type": "stream",
     "text": [
      "my_function ran 3 times in 0.00 seconds\n"
     ]
    }
   ],
   "source": [
    "def timeit(count=1):\n",
    "    def decorator(original_function):\n",
    "        def wrapper(*args, **kwargs):\n",
    "            start = time.time()\n",
    "            for _ in range(count):\n",
    "                original_function(*args, **kwargs)\n",
    "            end = time.time()\n",
    "            print(f\"{original_function.__name__} ran {count} times in {(end - start):.2f} seconds\")\n",
    "        return wrapper\n",
    "    return decorator\n",
    "\n",
    "@timeit(count=3)\n",
    "def my_function():\n",
    "    pass\n",
    "my_function() # Prints timing information for 3 runs\n"
   ]
  },
  {
   "cell_type": "code",
   "execution_count": null,
   "metadata": {},
   "outputs": [],
   "source": [
    "def timestamp_decorator(format_string):\n",
    "  \"\"\"\n",
    "  Factory function that creates a decorator adding a timestamp with the given format.\n",
    "\n",
    "  Args:\n",
    "    format_string: The format string for the timestamp (e.g., \"%Y-%m-%d\").\n",
    "\n",
    "  Returns:\n",
    "    The decorator function adding the timestamp.\n",
    "  \"\"\"\n",
    "  def decorator(original_function):\n",
    "    def wrapper(*args, **kwargs):\n",
    "      # Get the current timestamp\n",
    "      timestamp = datetime.datetime.now().strftime(format_string)\n",
    "      # Add the timestamp to the function output\n",
    "      result = original_function(*args, **kwargs)\n",
    "      return f\"{timestamp}: {result}\"\n",
    "    return wrapper\n",
    "  return decorator\n",
    "\n",
    "# Example usage with different formats\n",
    "@timestamp_decorator(\"%H:%M:%S\")\n",
    "def say_hello():\n",
    "  return \"Hello!\"\n",
    "\n",
    "@timestamp_decorator(\"%Y-%m-%d\")\n",
    "def calculate_total(a, b):\n",
    "  return a + b\n",
    "\n",
    "# Printing the results with timestamps\n",
    "print(say_hello())  # Output: 19:19:00: Hello!\n",
    "print(calculate_total(10, 20))  # Output: 2024-01-18: 30"
   ]
  }
 ],
 "metadata": {
  "kernelspec": {
   "display_name": "venv",
   "language": "python",
   "name": "python3"
  },
  "language_info": {
   "codemirror_mode": {
    "name": "ipython",
    "version": 3
   },
   "file_extension": ".py",
   "mimetype": "text/x-python",
   "name": "python",
   "nbconvert_exporter": "python",
   "pygments_lexer": "ipython3",
   "version": "3.12.1"
  }
 },
 "nbformat": 4,
 "nbformat_minor": 2
}
